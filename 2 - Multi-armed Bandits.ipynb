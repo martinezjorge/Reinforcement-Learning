{
 "cells": [
  {
   "cell_type": "markdown",
   "metadata": {},
   "source": [
    "# 2 - Multi Armed Bandits"
   ]
  },
  {
   "cell_type": "markdown",
   "metadata": {},
   "source": [
    "Bandit Problem -  A special case of the reinforcement learning problemm in which there is only a single state."
   ]
  },
  {
   "cell_type": "markdown",
   "metadata": {},
   "source": [
    "Purely Evaluative Feedback - How good the action take was, but not whether it was the ebst or the worst action possible.\n",
    "\n",
    "Purely Instructive Feedback -  Indicates the correct action to take, independently, of the action actually taken."
   ]
  },
  {
   "cell_type": "markdown",
   "metadata": {},
   "source": [
    "### Notation\n",
    "\n",
    "$k$ - number of actions(arms)\n",
    "\n",
    "$t$ - discrete time step or play number\n",
    "\n",
    "$q_*(a)$ - true value (expected reward) of action $a$\n",
    "\n",
    "$Q_t(a)$ - estimate at time $t$ of $q_*(a)$\n",
    "\n",
    "$N_t(a)$ - number of times action $a$ has been selected up prior to time $t$\n",
    "\n",
    "$H_t(a)$ - learned preference for selecting action $a$ at time $t$\n",
    "\n",
    "$\\pi_t(a)$ - probability of selecting action $a$ at time $t$\n",
    "\n",
    "$\\bar{R}_t$ - estimate at time $t$ of the expected reward given $\\pi_t$"
   ]
  },
  {
   "cell_type": "markdown",
   "metadata": {},
   "source": [
    "## 2.1 A k-armed Bandit Problem"
   ]
  },
  {
   "cell_type": "code",
   "execution_count": null,
   "metadata": {},
   "outputs": [],
   "source": []
  }
 ],
 "metadata": {
  "kernelspec": {
   "display_name": "Python 3",
   "language": "python",
   "name": "python3"
  },
  "language_info": {
   "codemirror_mode": {
    "name": "ipython",
    "version": 3
   },
   "file_extension": ".py",
   "mimetype": "text/x-python",
   "name": "python",
   "nbconvert_exporter": "python",
   "pygments_lexer": "ipython3",
   "version": "3.6.9"
  }
 },
 "nbformat": 4,
 "nbformat_minor": 4
}
